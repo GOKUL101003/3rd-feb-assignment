{
 "cells": [
  {
   "cell_type": "code",
   "execution_count": null,
   "id": "196b6ef7-f7bf-489b-bfc2-d17f582c7936",
   "metadata": {},
   "outputs": [],
   "source": [
    "\"\"\"\n",
    "Q1. Which keyword is used to create a function? Create a function to return a list of odd numbers in the\n",
    "range of 1 to 25.\n",
    "\"\"\""
   ]
  },
  {
   "cell_type": "code",
   "execution_count": null,
   "id": "8393b1c8-ceba-42d7-92e7-f2da4d1e379f",
   "metadata": {},
   "outputs": [],
   "source": [
    "\"\"\" \n",
    "def is the keyword used to create a function.\n",
    "\"\"\""
   ]
  },
  {
   "cell_type": "code",
   "execution_count": 1,
   "id": "7d379a91-963a-49e9-8f5e-d20637efb454",
   "metadata": {},
   "outputs": [],
   "source": [
    "def odd_list():\n",
    "    n = []\n",
    "    for i in range(1,26):\n",
    "        if i%2!=0:\n",
    "            n.append(i)\n",
    "    return n\n",
    "            "
   ]
  },
  {
   "cell_type": "code",
   "execution_count": 2,
   "id": "938f0cef-5794-470c-8ce6-ce5863c8c7af",
   "metadata": {},
   "outputs": [
    {
     "data": {
      "text/plain": [
       "[1, 3, 5, 7, 9, 11, 13, 15, 17, 19, 21, 23, 25]"
      ]
     },
     "execution_count": 2,
     "metadata": {},
     "output_type": "execute_result"
    }
   ],
   "source": [
    "odd_list()"
   ]
  },
  {
   "cell_type": "code",
   "execution_count": null,
   "id": "fe22aee5-002e-4374-a2b8-4e4344556c8b",
   "metadata": {},
   "outputs": [],
   "source": [
    "\"\"\"\n",
    "Q2. Why *args and **kwargs is used in some functions? Create a function each for *args and **kwargs to\n",
    "demonstrate their use.\n",
    "\"\"\""
   ]
  },
  {
   "cell_type": "code",
   "execution_count": null,
   "id": "d3d3ceff-dfa5-41e8-8818-8fb2874f0299",
   "metadata": {},
   "outputs": [],
   "source": [
    "\"\"\" \n",
    "*args are used when number of parameters or inputs is not fixed in a function. it returns tuples.\n",
    "**kwargs are used for key word argument where any number of variables can be declared \n",
    "to store values. it returns a dictionary\n",
    "\"\"\""
   ]
  },
  {
   "cell_type": "code",
   "execution_count": 3,
   "id": "cce9f173-e3cc-41d8-8889-e388fabc695b",
   "metadata": {},
   "outputs": [],
   "source": [
    "def test(*args):\n",
    "    return(args)"
   ]
  },
  {
   "cell_type": "code",
   "execution_count": 8,
   "id": "38447f44-a3b7-4f56-b89f-aacfa5bf29be",
   "metadata": {},
   "outputs": [
    {
     "data": {
      "text/plain": [
       "(1, 2, 3, 4, 5)"
      ]
     },
     "execution_count": 8,
     "metadata": {},
     "output_type": "execute_result"
    }
   ],
   "source": [
    "test(1,2,3,4,5)"
   ]
  },
  {
   "cell_type": "code",
   "execution_count": 5,
   "id": "13c1f1f8-14a2-4602-a648-e8903f7a966e",
   "metadata": {},
   "outputs": [],
   "source": [
    "def test1(**kwargs):\n",
    "    return(kwargs)"
   ]
  },
  {
   "cell_type": "code",
   "execution_count": 6,
   "id": "2716693b-a3eb-44fe-83c7-3814d21c1e63",
   "metadata": {},
   "outputs": [
    {
     "data": {
      "text/plain": [
       "{'a': 1, 'b': 2, 'c': 'gokul', 'd': (1, 2, 3), 'e': [1, 3, 5]}"
      ]
     },
     "execution_count": 6,
     "metadata": {},
     "output_type": "execute_result"
    }
   ],
   "source": [
    "test1(a=1,b=2,c=\"gokul\",d=(1,2,3),e=[1,3,5])"
   ]
  },
  {
   "cell_type": "code",
   "execution_count": null,
   "id": "faac7ba5-3782-4381-a704-2fa1ec85e125",
   "metadata": {},
   "outputs": [],
   "source": [
    "\"\"\"\n",
    "Q3.What is an iterator in python? Name the method used to initialise the iterator object and the method\n",
    "used for iteration. Use these methods to print the first five elements of the given list [2, 4, 6, 8, 10, 12, 14, 16,\n",
    "18, 20].\n",
    "\"\"\""
   ]
  },
  {
   "cell_type": "code",
   "execution_count": null,
   "id": "73071a04-a653-4239-8472-53ccf8938ddf",
   "metadata": {},
   "outputs": [],
   "source": [
    "\"\"\"\n",
    "soln: An iterator in Python is an object that can be used to access a sequence of values one at a time.\n",
    "      it has 2 methods __iter__ and __next__. \n",
    "      __iter__() is used to initialize the iter object.\n",
    "      __next__() is used for iteration.\n",
    "\"\"\"\n",
    "\n"
   ]
  },
  {
   "cell_type": "code",
   "execution_count": 5,
   "id": "b61de6ad-c913-48ab-b62c-47c32366bb26",
   "metadata": {},
   "outputs": [],
   "source": [
    "list_num = [2, 4, 6, 8, 10, 12, 14, 16,18,20]"
   ]
  },
  {
   "cell_type": "code",
   "execution_count": 18,
   "id": "c97792fb-ab05-43c3-ad06-a12852acdd96",
   "metadata": {},
   "outputs": [
    {
     "name": "stdout",
     "output_type": "stream",
     "text": [
      "2\n",
      "4\n",
      "6\n",
      "8\n",
      "10\n"
     ]
    }
   ],
   "source": [
    "iterator = iter(list_num)\n",
    "for i in range(5):\n",
    "    print(iterator.__next__())\n"
   ]
  },
  {
   "cell_type": "code",
   "execution_count": null,
   "id": "0215946e-9549-4fac-b695-3133c879cd51",
   "metadata": {},
   "outputs": [],
   "source": [
    "\"\"\"\n",
    "Q4. What is a generator function in python? Why yield keyword is used? Give an example of a generator\n",
    "function.\n",
    "\"\"\""
   ]
  },
  {
   "cell_type": "code",
   "execution_count": null,
   "id": "e2e2a5c8-0284-4a23-972e-3be36b7e78ef",
   "metadata": {},
   "outputs": [],
   "source": [
    "\"\"\"\n",
    "soln: The generator function is used to generate a sequence of values one by one instead of excecuting\n",
    "all the values using the keyword yield.\n",
    "The keyword yield is used to generate a sequence of values one by one.\n",
    "\"\"\""
   ]
  },
  {
   "cell_type": "code",
   "execution_count": 44,
   "id": "1403cfb2-6dec-462f-b9c8-036fa2e34410",
   "metadata": {},
   "outputs": [],
   "source": [
    "##example\n",
    "def fibanocci_num(n):\n",
    "    a,b = 0,1\n",
    "    for i in range(n):\n",
    "        yield a\n",
    "        a,b = b,a+b\n",
    "        \n",
    "        \n",
    "        \n",
    "        \n",
    "    "
   ]
  },
  {
   "cell_type": "code",
   "execution_count": 45,
   "id": "b4c86145-dea5-48ad-a53e-13a322448166",
   "metadata": {},
   "outputs": [
    {
     "name": "stdout",
     "output_type": "stream",
     "text": [
      "0\n",
      "1\n",
      "1\n",
      "2\n",
      "3\n",
      "5\n",
      "8\n",
      "13\n",
      "21\n",
      "34\n"
     ]
    }
   ],
   "source": [
    "for i in fibanocci_num(10):\n",
    "    print(i)"
   ]
  },
  {
   "cell_type": "code",
   "execution_count": 54,
   "id": "ad773ee8-230b-47c9-ae77-aae8310e4673",
   "metadata": {},
   "outputs": [],
   "source": [
    "def prime_numbers(n):\n",
    "    count = 0\n",
    "    for i in range(2,(n/2)+1):\n",
    "        if n%i == 0:\n",
    "            print(i)\n",
    "        "
   ]
  },
  {
   "cell_type": "code",
   "execution_count": null,
   "id": "d5dc61c8-c31f-4c2f-92a2-892b77e20b61",
   "metadata": {},
   "outputs": [],
   "source": [
    "\"\"\"\n",
    "Q5. Create a generator function for prime numbers less than 1000. Use the next() method to print the\n",
    "first 20 prime numbers.\n",
    "\"\"\""
   ]
  },
  {
   "cell_type": "code",
   "execution_count": null,
   "id": "ae593744-fb48-425d-aad5-55a04babdd57",
   "metadata": {},
   "outputs": [],
   "source": [
    "\n",
    "def getPrimes(n):\n",
    "    i = 2  # initialize a count variable\n",
    "    while i < n:  # limit the loop to 20 primes \n",
    "        prime = True\n",
    "        for a in range(2, i): \n",
    "            if i % a == 0:\n",
    "                prime = False\n",
    "                break\n",
    "        if prime:\n",
    "            yield i\n",
    "            \n",
    "        i += 1\n",
    "\n",
    "# generate the first 20 primes between 1 and 1000\n",
    "prime_gen = getPrimes(1000)\n",
    "for i in range(20):\n",
    "    print(next(prime_gen))\n",
    "\n",
    "                \n"
   ]
  },
  {
   "cell_type": "code",
   "execution_count": null,
   "id": "32df3575-1fd3-48d6-a927-a714af7c9dc2",
   "metadata": {},
   "outputs": [],
   "source": [
    "def getPrimes(n):\n",
    "    i = 2\n",
    "    while i < n:\n",
    "        prime = True\n",
    "        for a in range(2,i):\n",
    "            if i%a == 0:\n",
    "                prime = False\n",
    "                break\n",
    "            \n",
    "        \n",
    "        if prime == True :\n",
    "            yield i\n",
    "        i = i+1\n",
    "primes = getPrimes(1000)\n",
    "for i in range(20):\n",
    "    print(next(primes))\n",
    "    "
   ]
  },
  {
   "cell_type": "code",
   "execution_count": null,
   "id": "88e0a963-8f5f-45dc-8c3a-3151828e2ef1",
   "metadata": {},
   "outputs": [],
   "source": []
  },
  {
   "cell_type": "code",
   "execution_count": null,
   "id": "45ec786b-fac5-4a4f-a288-1691594cf70c",
   "metadata": {},
   "outputs": [],
   "source": []
  },
  {
   "cell_type": "code",
   "execution_count": null,
   "id": "7bd4f4b3-b226-4b76-87dc-debf6381d617",
   "metadata": {},
   "outputs": [],
   "source": []
  },
  {
   "cell_type": "code",
   "execution_count": null,
   "id": "251c427a-2010-44c8-aaa9-48386f67a76e",
   "metadata": {},
   "outputs": [],
   "source": []
  }
 ],
 "metadata": {
  "kernelspec": {
   "display_name": "Python 3 (ipykernel)",
   "language": "python",
   "name": "python3"
  },
  "language_info": {
   "codemirror_mode": {
    "name": "ipython",
    "version": 3
   },
   "file_extension": ".py",
   "mimetype": "text/x-python",
   "name": "python",
   "nbconvert_exporter": "python",
   "pygments_lexer": "ipython3",
   "version": "3.10.8"
  }
 },
 "nbformat": 4,
 "nbformat_minor": 5
}
